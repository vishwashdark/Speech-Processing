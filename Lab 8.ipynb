{
 "cells": [
  {
   "cell_type": "code",
   "execution_count": null,
   "metadata": {},
   "outputs": [],
   "source": [
    "A1.Use LSTM, Bi-LSTM networks for speechrecognition.Use STFT/ STCT, MFCC & LPC coefficients.\n",
    "    \n",
    "\n",
    "A2. Speak the sentence “Bhanumathi weds Rajat”(भानुमतिवेड्सरजि||భానుమతివెడ్స్రజత్). \n",
    "Construct speech for theword“Bharat”(భారత్|| भारत|| ಭರತ್|| பாரத்)by combining segmented phonemestaken from \n",
    "“Bhanumathi weds Rajat”speech recording. Listen to this word speech generated and note down the issues associated\n",
    " with this approach of speech synthesis.The string written Indian scripts may have some error. Please validate before using."
   ]
  },
  {
   "cell_type": "code",
   "execution_count": null,
   "metadata": {},
   "outputs": [],
   "source": []
  }
 ],
 "metadata": {
  "language_info": {
   "name": "python"
  }
 },
 "nbformat": 4,
 "nbformat_minor": 2
}
